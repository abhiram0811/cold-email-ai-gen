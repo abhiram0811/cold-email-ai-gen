{
 "cells": [
  {
   "cell_type": "code",
   "execution_count": 1,
   "id": "8ec0c578-64ff-47b3-9df4-bc279d5700cb",
   "metadata": {},
   "outputs": [],
   "source": [
    "import chromadb\n",
    "client = chromadb.Client()\n",
    "collection = client.create_collection(name=\"my_collection\")\n"
   ]
  },
  {
   "cell_type": "code",
   "execution_count": null,
   "id": "96e06d99-6481-4be4-ba97-5011917e1c69",
   "metadata": {},
   "outputs": [],
   "source": [
    "collection.add"
   ]
  }
 ],
 "metadata": {
  "kernelspec": {
   "display_name": "Python (AI Proj)",
   "language": "python",
   "name": "venv"
  },
  "language_info": {
   "codemirror_mode": {
    "name": "ipython",
    "version": 3
   },
   "file_extension": ".py",
   "mimetype": "text/x-python",
   "name": "python",
   "nbconvert_exporter": "python",
   "pygments_lexer": "ipython3",
   "version": "3.13.2"
  }
 },
 "nbformat": 4,
 "nbformat_minor": 5
}
