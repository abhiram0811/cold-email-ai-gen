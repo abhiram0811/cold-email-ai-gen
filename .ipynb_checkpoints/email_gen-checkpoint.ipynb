{
 "cells": [
  {
   "cell_type": "code",
   "execution_count": 1,
   "id": "b3304fcb-7d45-468f-8688-3ad1ef6797bc",
   "metadata": {},
   "outputs": [
    {
     "name": "stdout",
     "output_type": "stream",
     "text": [
      "You're first. What's on your mind? Want to chat about something in particular or just see where the conversation takes us?\n"
     ]
    }
   ],
   "source": [
    "from langchain_groq import ChatGroq\n",
    "\n",
    "llm = ChatGroq(\n",
    "    temperature=0,\n",
    "    groq_api_key='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',\n",
    "    model=\"llama-3.3-70b-versatile\"\n",
    ")\n",
    "response = llm.invoke(\"first \")\n",
    "print(response.content)"
   ]
  },
  {
   "cell_type": "code",
   "execution_count": 2,
   "id": "03a39e46-3fe0-4618-bbe4-202b2f85984f",
   "metadata": {},
   "outputs": [
    {
     "name": "stderr",
     "output_type": "stream",
     "text": [
      "USER_AGENT environment variable not set, consider setting it to identify your requests.\n"
     ]
    },
    {
     "name": "stdout",
     "output_type": "stream",
     "text": [
      "Software Engineer III | Walmart Careers             \n",
      "\n",
      "\n",
      "\n",
      "\n",
      "\n",
      "\n",
      "\n",
      "\n",
      "\n",
      "\n",
      "\n",
      "\n",
      "\n",
      "\n",
      "\n",
      "  \n",
      "\n",
      "    Careers    All Career Areas  Back  Stores & Clubs  Sam’s Club Jobs  Sam’s Club Management Jobs  Walmart Management Jobs  Walmart Store Jobs   Distribution, Fulfillment, & Drivers  Distribution and Fulfillment Centers  Drivers & Transportation  Fleet Maintenance  Flex Associate  Manufacturing   Healthcare  Corporate Healthcare Roles  Optical  Pharmacy   Technology  Cybersecurity  Data Science and Analytics  Information Technology  Project and Program Management - Technology  Software Development and Engineering  UX Design  View all Technology   Corporate  Accounting and Finance  Administrative and Support Services  Asset Protection  Aviation and Travel  Business Operations  Corporate Affairs and Communications  Customer Service and Call Center  Data Analytics and Business Intelligence  Engineering  Ethics and Compliance  Global Investigations and Security  Human Resources  Installation, Maintenance and Utilities  Legal  Marketing and Customer Insights  Merchandising and Online Operations  Product Management  Project and Program Management - PMO  Real Estate, Construction and Realty Execution  Supply Chain and Logistics  View all Corporate     Locations  Back  Northwest Arkansas  Silicon Valley  DC Metro Area  India  International    Culture  Back  Values  History  Diversity & Inclusion  Working at Walmart    Impact  Back  Sustainability  Community  America at Work    Students   Military   Login Back  Supply Chain  Hourly   Management   Transportation & Drivers    Corporate  Home Office    Sam's Club  Hourly   Management    Walmart Stores  Hourly   Management            Software Engineer III   Share this position        Software Engineer III Apply  Apply  Location BENTONVILLE, AR   Career Area Software Development and Engineering   Job Function Software Engineering and Architecture   Employment Type Regular/Permanent   Position Type Salary   Requisition WD1996569    What you'll do  at   Position Summary...What you'll do...About Team: Our team ensures seamless access to medications and pharmaceutical services while leveraging state-of-the-art technologies to streamline processes and enhance the customer experience. From prescription management to immunization scheduling, our pharmacies are equipped to cater to every aspect of our customers' healthcare needs.What you'll do:Collaborate with our product team, architects, quality assurance to design, develop and enhance a reliable and easy-to-maintain infrastructurePartner and collaborate on product development with business stakeholders and cross functional teamsTroubleshoot business and production issues by gathering information (for example, issue, impact, criticality, and possible root cause)Engage support teams to assist in the resolution of issues • Perform root cause analysis to prevent future occurrence of issuesWhat you'll bring:Experience designing and implementing highly available backend micro services using Java programming languages.Experience utilizing one of the following NoSQL databases: CosmosDB or MongoDB.Experience working with container orchestration frameworks including Kubernetes.Experience with continuous integration and continuous deployment strategies to improve reliability.Experience with telemetry and observability frameworks including Prometheus, Grafana, and ELK.Experience with unit and performance testing of applications to increase resilience using technologies including Jenkins, Junit, and JMeter.Experience working in message queue Kafka to send data between asynchronous services.Build scripts for automation of repetitive and routine tasks in CI/CD (Continuous Integration/Continuous Delivery), Testing or any other process (as applicable). Implement telemetry features as required independently.About Walmart Global TechImagine working in an environment where one line of code can make life easier for hundreds of millions of people. That’s what we do at Walmart Global Tech. We’re a team of software engineers, data scientists, cybersecurity expert's and service professionals within the world’s leading retailer who make an epic impact and are at the forefront of the next retail disruption. People are why we innovate, and people power our innovations. We are people-led and tech-empowered. We train our team in the skillsets of the future and bring in experts like you to help us grow. We have roles for those chasing their first opportunity as well as those looking for the opportunity that will define their career. Here, you can kickstart a great career in tech, gain new skills and experience for virtually every industry, or leverage your expertise to innovate at scale, impact millions and reimagine the future of retail.Flexible, hybrid work:We use a hybrid way of working that is primarily in office coupled with virtual when not onsite. Our campuses serve as a hub to enhance collaboration, bring us together for purpose and deliver on business needs. This approach helps us make quicker decisions, remove location barriers across our global team and be more flexible in our personal lives.Benefits:Benefits: Beyond our great compensation package, you can receive incentive awards for your performance. Other great perks include 401(k) match, stock purchase plan, paid maternity and parental leave, PTO, multiple health plans, and much more.Equal Opportunity Employer:Walmart, Inc. is an Equal Opportunity Employer – By Choice. We believe we are best equipped to help our associates, customers and the communities we serve live better when we really know them. That means understanding, respecting and valuing diversity- unique styles, experiences, identities, ideas and opinions – while being inclusive of all people.The above information has been designed to indicate the general nature and level of work performed in the role. It is not designed to contain or be interpreted as a comprehensive inventory of all responsibilities and qualifications required of employees assigned to this job. The full Job Description can be made available as part of the hiring processAt Walmart, we offer competitive pay as well as performance-based bonus awards and other great benefits for a happier mind, body, and wallet. Health benefits include medical, vision and dental coverage. Financial benefits include 401(k), stock purchase and company-paid life insurance. Paid time off benefits include PTO (including sick leave), parental leave, family care leave, bereavement, jury duty, and voting. Other benefits include short-term and long-term disability, company discounts, Military Leave Pay, adoption and surrogacy expense reimbursement, and more.‎ ‎ ‎ You will also receive PTO and/or PPTO that can be used for vacation, sick leave, holidays, or other purposes.  The amount you receive depends on your job classification and length of employment.  It will meet or exceed the requirements of paid sick leave laws, where applicable.‎ For information about PTO, see https://one.walmart.com/notices.‎ ‎ Live Better U is a Walmart-paid education benefit program for full-time and part-time associates in Walmart and Sam's Club facilities. Programs range from high school completion to bachelor's degrees, including English Language Learning and short-form certificates. Tuition, books, and fees are completely paid for by Walmart.‎ Eligibility requirements apply to some benefits and may depend on your job classification and length of employment. Benefits are subject to change and may be subject to a specific plan or program terms.‎ For information about benefits and eligibility, see One.Walmart.‎ The annual salary range for this position is $90,000.00-$180,000.00‎ Additional compensation includes annual or quarterly performance bonuses.‎ Additional compensation for certain positions may also include:‎ ‎ -  Stock‎ ‎ Minimum Qualifications...Outlined below are the required minimum qualifications for this position. If none are listed, there are no minimum qualifications. Option 1: Bachelor's degree in computer science, computer engineering, computer information systems, software engineering, or related area and 2 years’ experience in software engineering or related area.Option 2: 4 years’ experience in software engineering or related area.Preferred Qualifications...Outlined below are the optional preferred qualifications for this position. If none are listed, there are no preferred qualifications.Customer Service, We value candidates with a background in creating inclusive digital experiences, demonstrating knowledge in implementing Web Content Accessibility Guidelines (WCAG) 2.2 AA standards, assistive technologies, and integrating digital accessibility seamlessly. The ideal candidate would have knowledge of accessibility best practices and join us as we continue to create accessible products and services following Walmart’s accessibility standards and guidelines for supporting an inclusive culture.Masters: Computer SciencePrimary Location...2901 Se I Street, Ste Tbd,  Bentonville, AR 72712-0000, United States of America       About Walmart At Walmart, we help people save money so they can live better. This mission serves as the foundation for every decision we make, from responsible sourcing to sustainability—and everything in between. As a Walmart associate, you will play an integral role in shaping the future of retail, tech, merchandising, finance and hundreds of other industries—all while affecting the lives of millions of customers all over the world. Here, your work makes an impact every day. What are you waiting for? Walmart Inc. is an Equal Opportunity Employer- By Choice. We believe we are best equipped to help our associates, customers, and the communities we serve live better when we really know them. That means understanding, respecting, and valuing unique styles, experiences, identities, abilities, ideas and opinions- while welcoming all people.   Hello, NW ArkansasWith over 200 miles of trails, an emerging locally-sourced food scene, the world-renowned Crystal Bridges Museum—NWA has something for everyone. Discover NW Arkansas          ArtCrystal Bridges MuseumCelebrate the American spirit in a setting that unites the beauty of art and the power of nature.     CultureWalton Arts CenterArkansas' premiere center for visual arts and entertainment.     EducationThe AmazeumAn interactive children's museum that's fun for the whole family.             CommuneBotanical Gardens 42 acres of premiere public garden space.     ExploreDevil's Den State ParkLocated on 2,500 acres, Devil's Den State Park is the perfect place to explore Arkansas' natural beauty.     come togetherFayetteville SquareThe best of shopping and restaurants, right in the heart of Fayetteville.          All the benefits you need for you and your family  Multiple health plan options, including vision & dental plans for you & dependents  Financial benefits including 401(k), stock purchase plans, life insurance and more  Associate discounts in-store and online  Education assistance for Associate and dependents  Parental Leave  Pay during military service  Paid Time off - to include vacation, sick, parental  Short-term and long-term disability for when you can't work because of injury, illness, or childbirth    Eligibility requirements apply to some benefits and may depend on your job classification and length of employment. Benefits are subject to change and may be subject to specific plan or program terms. For information about benefits and eligibility, see One.Walmart.com/Benefits.  Frequently asked questions  On average, how long does it take to fill out an application?It depends on the role you are applying to. We do our best to keep the application process to approximately 15-20 minutes, plus an additional 20-30 minutes if an assessment is required. Further applications are faster as our system saves your data. Not all roles require an assessment and certain roles may require additional assessments.   Can I change my application after submitting?No, you cannot change your application after submitting, so please make sure that everything is finalized before you hit the submit button.  How do you protect my personal information?Processing of information on paper is minimal, and Walmart processes application information using an applicant tracking system (ATS). Access to the data within the ATS is restricted to authorized personnel, and the system itself is held to high security standards by Walmart.  What are the recommended Internet Browsers for applying for open roles?We recommend Google Chrome 12+ for the best user experience. However, the following browsers may also be used:Firefox 115+Microsoft Edge 44+Safari 5.0+   See All FAQs  Recently viewed jobs    FAQ   Sitemap   Corporate   Terms & Conditions   Privacy Policy   Notice at Collection           ©2025 Walmart, Inc. is an Equal Opportunity Employer- By Choice.   We believe we are best equipped to help our associates, customers, and the communities we serve live better when we really know them. That means understanding, respecting, and valuing unique styles, experiences, identities, abilities, ideas and opinions- while welcoming all people. Walmart Inc. participates in E-Verify. Learn more about   applicant rights under Federal Employment Laws.          \n",
      "\n",
      "\n",
      "\n",
      "\n",
      "\n",
      "\n",
      "\n",
      "\n",
      "\n",
      "\n",
      "\n",
      "\n",
      " \n"
     ]
    }
   ],
   "source": [
    "from langchain_community.document_loaders import WebBaseLoader\n",
    "\n",
    "loader = WebBaseLoader(\"https://careers.walmart.com/us/jobs/WD1996569-software-engineer-iii\")\n",
    "page_data = loader.load().pop().page_content\n",
    "print(page_data)"
   ]
  },
  {
   "cell_type": "code",
   "execution_count": 8,
   "id": "82dbe250-c37b-4565-af88-938e2689a907",
   "metadata": {},
   "outputs": [
    {
     "name": "stdout",
     "output_type": "stream",
     "text": [
      "```json\n",
      "{\n",
      "  \"role\": \"Software Engineer III\",\n",
      "  \"experience\": \"2 years\",\n",
      "  \"skills\": [\n",
      "    \"Java programming languages\",\n",
      "    \"NoSQL databases (CosmosDB or MongoDB)\",\n",
      "    \"Container orchestration frameworks (Kubernetes)\",\n",
      "    \"Continuous integration and continuous deployment strategies\",\n",
      "    \"Telemetry and observability frameworks (Prometheus, Grafana, ELK)\",\n",
      "    \"Unit and performance testing of applications (Jenkins, Junit, JMeter)\",\n",
      "    \"Message queue Kafka\"\n",
      "  ],\n",
      "  \"description\": \"Collaborate with our product team, architects, quality assurance to design, develop and enhance a reliable and easy-to-maintain infrastructure. Partner and collaborate on product development with business stakeholders and cross functional teams. Troubleshoot business and production issues by gathering information and perform root cause analysis to prevent future occurrence of issues.\"\n",
      "}\n",
      "```\n"
     ]
    }
   ],
   "source": [
    "from langchain_core.prompts import PromptTemplate\n",
    "\n",
    "prompt_extract = PromptTemplate.from_template(\n",
    "    \"\"\"\n",
    "    ### SCRAPED TEXT FROM WEBSITE:\n",
    "    {page_data}\n",
    "    ### INSTRUCTION:\n",
    "    The scraped text is from the career's page of a website.\n",
    "    Your job is to extract the job postings and return them in JSON format containing the \n",
    "    following keys: role, experience, skills, and description.\n",
    "    Only return the valid JSON without any additional text, labels, or formatting.\n",
    "    ### VALID JSON :    \n",
    "    \"\"\"\n",
    ")\n",
    "\n",
    "chain_extract = prompt_extract | llm \n",
    "res = chain_extract.invoke(input={'page_data': page_data})\n",
    "\n",
    "# Ensure we only print the JSON object\n",
    "print(res.content.strip())"
   ]
  },
  {
   "cell_type": "code",
   "execution_count": null,
   "id": "4d60627f-711c-4379-9fc9-9d932edcef89",
   "metadata": {},
   "outputs": [],
   "source": []
  }
 ],
 "metadata": {
  "kernelspec": {
   "display_name": "Python (AI Proj)",
   "language": "python",
   "name": "venv"
  },
  "language_info": {
   "codemirror_mode": {
    "name": "ipython",
    "version": 3
   },
   "file_extension": ".py",
   "mimetype": "text/x-python",
   "name": "python",
   "nbconvert_exporter": "python",
   "pygments_lexer": "ipython3",
   "version": "3.13.2"
  }
 },
 "nbformat": 4,
 "nbformat_minor": 5
}
